{
 "cells": [
  {
   "attachments": {},
   "cell_type": "markdown",
   "metadata": {},
   "source": [
    "# Creating an AI model from scratch"
   ]
  },
  {
   "cell_type": "code",
   "execution_count": 1,
   "metadata": {},
   "outputs": [],
   "source": [
    "#Import neccessary libraries\n",
    "import numpy as np\n",
    "import matplotlib.pyplot as plt\n",
    "from sklearn.model_selection import train_test_split"
   ]
  },
  {
   "attachments": {},
   "cell_type": "markdown",
   "metadata": {},
   "source": [
    "Convert data set into numpy array\n",
    "In this session, we are using \"Housing Dataset of 5000 people staying in USA\" provided by kaggle in the form of an .csv file\n",
    "\n",
    "Source: https://www.kaggle.com/datasets/darshanprabhu09/housing-dataset-of-5000-people-staying-in-usa?resource=download"
   ]
  },
  {
   "cell_type": "code",
   "execution_count": 2,
   "metadata": {},
   "outputs": [],
   "source": [
    "#Fixing the damn csv file\n",
    "#You only need to run this code block ONCE when you first downloaded the source dataset.\n",
    "#Because (somehow) the original csv file is unusable, we need to do some formatting with simple read/write operations.\n",
    "srcfile = open('USA_Housing.csv','r+')\n",
    "destfile = open('USA_Housing_Fixed.csv','w')\n",
    "\n",
    "srclist = srcfile.readlines()\n",
    "for i in range(len(srclist)):\n",
    "    if i == 0:\n",
    "        continue\n",
    "    if i % 2 != 0:\n",
    "        destfile.write(srclist[i].rpartition(\",\\\"\")[0] + \"\\n\")"
   ]
  },
  {
   "cell_type": "code",
   "execution_count": 3,
   "metadata": {},
   "outputs": [
    {
     "data": {
      "text/plain": [
       "array([[7.95454586e+04, 5.68286132e+00, 7.00918814e+00, 4.09000000e+00,\n",
       "        2.30868005e+04, 1.05903356e+06],\n",
       "       [7.92486425e+04, 6.00289981e+00, 6.73082102e+00, 3.09000000e+00,\n",
       "        4.01730722e+04, 1.50589091e+06],\n",
       "       [6.12870672e+04, 5.86588984e+00, 8.51272743e+00, 5.13000000e+00,\n",
       "        3.68821594e+04, 1.05898799e+06],\n",
       "       ...,\n",
       "       [6.37132729e+04, 4.78748780e+00, 8.01791445e+00, 3.12000000e+00,\n",
       "        4.25076117e+04, 1.03234687e+06],\n",
       "       [6.30791724e+04, 6.38116562e+00, 8.99598369e+00, 3.05000000e+00,\n",
       "        2.19407472e+04, 1.20111029e+06],\n",
       "       [7.52631156e+04, 3.60740473e+00, 7.96045754e+00, 5.36000000e+00,\n",
       "        3.08887505e+04, 1.18516086e+06]])"
      ]
     },
     "execution_count": 3,
     "metadata": {},
     "output_type": "execute_result"
    }
   ],
   "source": [
    "dataset = np.genfromtxt('USA_Housing_Fixed.csv',delimiter=',',dtype='float64')\n",
    "dataset"
   ]
  },
  {
   "attachments": {},
   "cell_type": "markdown",
   "metadata": {},
   "source": [
    "We split the prices column, which is the value we want to predict (targets)"
   ]
  },
  {
   "cell_type": "code",
   "execution_count": 4,
   "metadata": {},
   "outputs": [
    {
     "data": {
      "text/plain": [
       "array([[7.95454586e+04, 5.68286132e+00, 7.00918814e+00, 4.09000000e+00,\n",
       "        2.30868005e+04],\n",
       "       [7.92486425e+04, 6.00289981e+00, 6.73082102e+00, 3.09000000e+00,\n",
       "        4.01730722e+04],\n",
       "       [6.12870672e+04, 5.86588984e+00, 8.51272743e+00, 5.13000000e+00,\n",
       "        3.68821594e+04],\n",
       "       ...,\n",
       "       [6.37132729e+04, 4.78748780e+00, 8.01791445e+00, 3.12000000e+00,\n",
       "        4.25076117e+04],\n",
       "       [6.30791724e+04, 6.38116562e+00, 8.99598369e+00, 3.05000000e+00,\n",
       "        2.19407472e+04],\n",
       "       [7.52631156e+04, 3.60740473e+00, 7.96045754e+00, 5.36000000e+00,\n",
       "        3.08887505e+04]])"
      ]
     },
     "execution_count": 4,
     "metadata": {},
     "output_type": "execute_result"
    }
   ],
   "source": [
    "targets = dataset[:, 5]\n",
    "dataset = np.delete(dataset, 5, 1)\n",
    "dataset"
   ]
  },
  {
   "attachments": {},
   "cell_type": "markdown",
   "metadata": {},
   "source": [
    "Next, we split the dataset into train and test data."
   ]
  },
  {
   "cell_type": "code",
   "execution_count": 5,
   "metadata": {},
   "outputs": [],
   "source": [
    "dataset_train, dataset_test, targets_train, targets_test = train_test_split(dataset, targets, test_size=0.2, random_state=0)"
   ]
  },
  {
   "attachments": {
    "image.png": {
     "image/png": "[encoded data removed]"
    }
   },
   "cell_type": "markdown",
   "metadata": {},
   "source": [
    "Model's basis for evaluation\n",
    "- Using cosine similarity as our evaluation method.\n",
    "- We calculate the dot product of the input vector with multiple weight vectors, then we add all results together. (Layer 1)\n",
    "- Because the given dataset follows Gaussian probability (continous values), we need to pass the result to an activation function. (Layer 2)\n",
    "- For this session, our activation function is Sigmoid activation function\n",
    "\n",
    "![image.png](attachment:image.png)\n",
    "\n",
    "- If the output is greater than 0.5, we return TRUE. Otherwise FALSE."
   ]
  },
  {
   "cell_type": "code",
   "execution_count": 6,
   "metadata": {},
   "outputs": [
    {
     "data": {
      "text/plain": [
       "array([0.57959177])"
      ]
     },
     "execution_count": 6,
     "metadata": {},
     "output_type": "execute_result"
    }
   ],
   "source": [
    "def sigmoid(x):\n",
    "    return 1 / (1 + np.exp(-x))\n",
    "\n",
    "def tanh(x):\n",
    "    return (np.exp(x) - np.exp(-x))/(np.exp(x) + np.exp(-x))\n",
    "def derivative_tanh(x):\n",
    "     return 1 - np.square(tanh(x))\n",
    "def make_prediction(input_vector, weights, bias):\n",
    "    layer_1 = np.dot(input_vector, weights)/(np.linalg.norm(input_vector)*np.linalg.norm(weights)) + bias\n",
    "    layer_2 = sigmoid(layer_1)\n",
    "    return layer_2\n",
    "def _cosine_similarity(input_vector, weights):\n",
    "        return np.dot(input_vector, weights)/(np.linalg.norm(input_vector)*np.linalg.norm(weights))\n",
    "input_vector = dataset[5]\n",
    "weights = np.array([2.5,3,1,-0.6,2])\n",
    "bias = np.array([0.0])\n",
    "result = _cosine_similarity(input_vector, weights) + bias\n",
    "#result = input_vector/(np.linalg.norm(input_vector) * np.linalg.norm(weights)) - _cosine_similarity(input_vector, weights)*(weights/np.square(np.linalg.norm(weights)))\n",
    "tanh(result)"
   ]
  },
  {
   "attachments": {},
   "cell_type": "markdown",
   "metadata": {},
   "source": [
    "# Create the neural network model class\n",
    "- Because the data values are quite large, we cannot compute using the dot product.\n",
    "- Instead, the **cosine_similarity** is used.\n",
    "- Thank you to https://math.stackexchange.com/questions/1923613/partial-derivative-of-cosine-similarity for providing the formula to the derivative of cosine similarity!"
   ]
  },
  {
   "cell_type": "code",
   "execution_count": 22,
   "metadata": {},
   "outputs": [],
   "source": [
    "class MyModel:\n",
    "    def __init__(self, learning_rate) -> None:\n",
    "        self.weights = np.array([np.random.randn(), np.random.randn(), np.random.rand(), np.random.randn(), np.random.randn()])\n",
    "        self.bias = np.random.randn()\n",
    "        self.learning_rate = learning_rate\n",
    "    \n",
    "    def _sigmoid(self, x):\n",
    "        return 1 / (1 + np.exp(-x))\n",
    "    def _derivative_sigmoid(self, x):\n",
    "        return self._sigmoid(x) * (1-self._sigmoid(x))\n",
    "    \n",
    "    def _cosine_similarity(self, input_vector):\n",
    "        return np.dot(input_vector, self.weights)/(np.linalg.norm(input_vector)*np.linalg.norm(self.weights))\n",
    "    def _derivative_cosine_similarity_byWeights(self, input_vector):\n",
    "        return input_vector/(np.linalg.norm(input_vector) * np.linalg.norm(self.weights)) - self._cosine_similarity(input_vector)*(self.weights/np.square(np.linalg.norm(self.weights)))\n",
    "    \n",
    "    def _tanh(self, x):\n",
    "        return (np.exp(x) - np.exp(-x))/(np.exp(x) + np.exp(-x))\n",
    "    def _derivative_tanh(self, x):\n",
    "        return 1 - np.square(tanh(x))\n",
    "    \n",
    "    def predict(self, input_vector):\n",
    "        layer_1 = self._cosine_similarity(input_vector)\n",
    "        layer_2 = self._sigmoid(layer_1 * 5) * self.bias\n",
    "        return layer_2 \n",
    "    \n",
    "    def _compute_gradients(self, input_vector, target):\n",
    "        layer_1 = self._cosine_similarity(input_vector)\n",
    "        layer_2 = self._sigmoid(layer_1 * 5) * self.bias\n",
    "        prediction = layer_2\n",
    "\n",
    "        derror_dprediction = 2 * (prediction - target) #MSE\n",
    "        dprediction_dlayer1 = self._derivative_sigmoid(layer_1 * 5) * self.bias * 5\n",
    "        dprediction_dbias = self._sigmoid(layer_1 * 5) \n",
    "        dlayer1_dweights = self._derivative_cosine_similarity_byWeights(input_vector)\n",
    "\n",
    "        derror_dbias = (\n",
    "            derror_dprediction * dprediction_dbias\n",
    "        )\n",
    "        derror_dweights = (\n",
    "            derror_dprediction * dprediction_dlayer1 * dlayer1_dweights\n",
    "        )\n",
    "        return derror_dbias, derror_dweights\n",
    "\n",
    "    def _update_parameters(self, derror_dbias, derror_dweights):\n",
    "        self.bias = self.bias - (derror_dbias * self.learning_rate)\n",
    "        self.weights = self.weights - (\n",
    "            derror_dweights * self.learning_rate\n",
    "        )\n",
    "        return derror_dbias, derror_dweights\n",
    "    \n",
    "    def train(self, input_vectors, targets, epochs=5):\n",
    "        \"\"\"\n",
    "        Train the model\n",
    "\n",
    "        input_vectors: array of input vectors\n",
    "        targets: array of target values that corresponds to input vectors\n",
    "        epochs: number of iterations (default is 5)\n",
    "        \"\"\"\n",
    "        cumulative_errors = []\n",
    "        for current_iteration in range(epochs):\n",
    "            # Pick a data instance at random\n",
    "            random_data_index = np.random.randint(len(input_vectors))\n",
    "\n",
    "            input_vector = input_vectors[random_data_index]\n",
    "            target = targets[random_data_index]\n",
    "\n",
    "            # Compute the gradients and update the weights\n",
    "            derror_dbias, derror_dweights = self._compute_gradients(\n",
    "                input_vector, target\n",
    "            )\n",
    "\n",
    "            self._update_parameters(derror_dbias, derror_dweights)\n",
    "\n",
    "            # Measure the cumulative error for all the instances\n",
    "            if current_iteration % 100 == 0:\n",
    "                cumulative_error = 0\n",
    "                # Loop through all the instances to measure the error\n",
    "                for data_instance_index in range(len(input_vectors)):\n",
    "                    data_point = input_vectors[data_instance_index]\n",
    "                    target = targets[data_instance_index]\n",
    "\n",
    "                    prediction = self.predict(data_point)\n",
    "                    error = np.square(prediction - target) #MSE\n",
    "\n",
    "                    cumulative_error = cumulative_error + error\n",
    "                cumulative_errors.append(cumulative_error)\n",
    "        return cumulative_errors\n",
    "    \n",
    "    def fit(self, input_vectors, targets):\n",
    "        \"\"\"\n",
    "        Test the model.\n",
    "        Outputs the overall accuracy of the model.\n",
    "        \"\"\"\n",
    "        cummulative_precisions = 0\n",
    "        for i in range(len(input_vectors)):\n",
    "            prediction = self.predict(input_vectors[i])\n",
    "            precision = 1 - ((prediction - targets[i]) / targets[i])\n",
    "            cummulative_precisions = cummulative_precisions + precision\n",
    "        return cummulative_precisions / len(input_vectors)\n"
   ]
  },
  {
   "attachments": {},
   "cell_type": "markdown",
   "metadata": {},
   "source": [
    "Insantitate the class."
   ]
  },
  {
   "cell_type": "code",
   "execution_count": 23,
   "metadata": {},
   "outputs": [
    {
     "data": {
      "text/plain": [
       "-0.10303389220223297"
      ]
     },
     "execution_count": 23,
     "metadata": {},
     "output_type": "execute_result"
    }
   ],
   "source": [
    "alpha = 0.01\n",
    "model = MyModel(alpha)\n",
    "model.predict(dataset_test[1])"
   ]
  },
  {
   "attachments": {},
   "cell_type": "markdown",
   "metadata": {},
   "source": [
    "The prediction is pretty horrible right now, but let's train our model."
   ]
  },
  {
   "cell_type": "code",
   "execution_count": 25,
   "metadata": {},
   "outputs": [
    {
     "data": {
      "text/plain": [
       "[482318259295237.8,\n",
       " 489089365764253.56,\n",
       " 501260409973102.25,\n",
       " 486660136770787.5,\n",
       " 480016993095050.94,\n",
       " 482450396171285.25,\n",
       " 480280170386557.4,\n",
       " 483781186345479.06,\n",
       " 481232236302342.6,\n",
       " 481259015558115.9,\n",
       " 492303118380936.2,\n",
       " 487145642339000.2,\n",
       " 483803885465044.8,\n",
       " 479591517038312.2,\n",
       " 493353893888322.1,\n",
       " 480488885777036.7,\n",
       " 483610543893089.4,\n",
       " 480012641287223.56,\n",
       " 479526479542042.3,\n",
       " 480783659410609.0,\n",
       " 507713892774617.9,\n",
       " 492785549899590.25,\n",
       " 478714608949798.75,\n",
       " 478777503054854.06,\n",
       " 483047000662771.2,\n",
       " 490824339992218.56,\n",
       " 490590301139939.75,\n",
       " 478859919920800.3,\n",
       " 479180420458283.8,\n",
       " 502272573784969.0,\n",
       " 483231500681829.44,\n",
       " 479906351358824.9,\n",
       " 478582644573612.7,\n",
       " 483738889618372.7,\n",
       " 482479834268997.8,\n",
       " 497882353182358.6,\n",
       " 481298058042163.06,\n",
       " 478773540467735.44,\n",
       " 478615324812603.8,\n",
       " 489129320603337.3,\n",
       " 479825955898840.0,\n",
       " 480701079229615.0,\n",
       " 479229484449016.4,\n",
       " 486166963743248.4,\n",
       " 480886280480856.0,\n",
       " 479745218514196.56,\n",
       " 479519489531118.25,\n",
       " 482211968418445.44,\n",
       " 493712550775800.5,\n",
       " 484148396380263.94]"
      ]
     },
     "execution_count": 25,
     "metadata": {},
     "output_type": "execute_result"
    }
   ],
   "source": [
    "cummulative_errors = model.train(dataset_train, targets_train, epochs=5000)\n",
    "cummulative_errors"
   ]
  },
  {
   "cell_type": "code",
   "execution_count": 26,
   "metadata": {},
   "outputs": [
    {
     "data": {
      "text/plain": [
       "Text(0, 0.5, 'Error for all training instances')"
      ]
     },
     "execution_count": 26,
     "metadata": {},
     "output_type": "execute_result"
    },
    {
     "data": {
      "image/png": "[encoded data removed]",
      "text/plain": [
       "<Figure size 640x480 with 1 Axes>"
      ]
     },
     "metadata": {},
     "output_type": "display_data"
    }
   ],
   "source": [
    "plt.plot(cummulative_errors)\n",
    "plt.xlabel(\"Iterations\")\n",
    "plt.ylabel(\"Error for all training instances\")"
   ]
  },
  {
   "cell_type": "code",
   "execution_count": 27,
   "metadata": {},
   "outputs": [
    {
     "name": "stdout",
     "output_type": "stream",
     "text": [
      "Model precision through test dataset is 0.7403310655854509\n"
     ]
    }
   ],
   "source": [
    "model_precision = model.fit(dataset_test, targets_test)\n",
    "print(f\"Model precision through test dataset is {model_precision}\")"
   ]
  },
  {
   "attachments": {},
   "cell_type": "markdown",
   "metadata": {},
   "source": [
    "So, through training and implementing different activation functions, we have reached an accuracy of *about* **71-74%**. Still not economically optimal, but it is a good start."
   ]
  },
  {
   "attachments": {},
   "cell_type": "markdown",
   "metadata": {},
   "source": [
    "# Conclusion\n",
    "- Preprocessing input data is important\n",
    "\n",
    "- Input layer of the neural network is crucial. For large values, it is wise to use functions that reduces them to a result that can be efficiently passed to the activation function, while still witholding the relationships between all variables.\n",
    "\n",
    "- For example, at the beginning I had planned to use **dot product** of the input vector and weight vector, but the result turned out to be too large (or too small), which causes the activation function (Sigmoid's) to be inconclusive. By replacing layer 1 with the **cosine_similarity** instead - with a range of (-1, 1) - and extending the range to (-5, 5), I was able to utilize the Sigmoid's activation function.\n",
    "\n",
    "- Clearly, this model can still be improved drastically. Mind the fact that the training dataset is still quite small (only 5000 entries)."
   ]
  }
 ],
 "metadata": {
  "kernelspec": {
   "display_name": "Python 3",
   "language": "python",
   "name": "python3"
  },
  "language_info": {
   "codemirror_mode": {
    "name": "ipython",
    "version": 3
   },
   "file_extension": ".py",
   "mimetype": "text/x-python",
   "name": "python",
   "nbconvert_exporter": "python",
   "pygments_lexer": "ipython3",
   "version": "3.11.3"
  },
  "orig_nbformat": 4
 },
 "nbformat": 4,
 "nbformat_minor": 2
}
